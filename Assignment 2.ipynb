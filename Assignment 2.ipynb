{
 "cells": [
  {
   "cell_type": "code",
   "execution_count": 33,
   "metadata": {},
   "outputs": [
    {
     "name": "stdout",
     "output_type": "stream",
     "text": [
      "Write your Subjects Marks\n",
      "\n",
      "Put your subject 1 Marks out of 100: 98\n",
      "Put your subject 2 Marks out of 100: 89\n",
      "Put your subject 3 Marks out of 100: 78\n",
      "Put your subject 4 Marks out of 100: 87\n",
      "Put your subject 5 Marks out of 100: 90\n",
      "\n",
      "A+ Grade with percentage of %  88.4\n"
     ]
    }
   ],
   "source": [
    "# Prepared by : Habib Yousuf\n",
    "\n",
    "# Roll No: PY06315\n",
    "\n",
    "\n",
    "\n",
    "\n",
    "# Write a program which takes 5 inputs from user for different subject’s\n",
    "# marks, total it and generate mark sheet using grades ?\n",
    "\n",
    "print(\"Write your Subjects Marks\\n\")\n",
    "\n",
    "s1 = int(input(\"Put your subject 1 Marks out of 100: \"))\n",
    "s2 = int(input(\"Put your subject 2 Marks out of 100: \"))\n",
    "s3 = int(input(\"Put your subject 3 Marks out of 100: \"))\n",
    "s4 = int(input(\"Put your subject 4 Marks out of 100: \"))\n",
    "s5 = int(input(\"Put your subject 5 Marks out of 100: \"))\n",
    "\n",
    "total = s1 + s2 + s3 + s4 + s5\n",
    "per = float(total / 500 * 100)\n",
    "\n",
    "if per >= 80 and per <= 100 :\n",
    "    print(\"\\nA+ Grade with percentage of % \",per);\n",
    "elif per >= 70 and per < 80 :\n",
    "    print(\"\\nA Grade with percentage of % \",per);\n",
    "elif per >= 60 and per < 70 :\n",
    "    print(\"\\nB Grade with percentage of % \",per);\n",
    "elif per >= 50 and per < 60 :\n",
    "    print(\"\\nC Gradewith percentage of % \",per);\n",
    "elif per >= 40 and per < 50 :\n",
    "    print(\"\\nD Grade with percentage of % \",per);\n",
    "elif per >= 33 and per < 40 :\n",
    "    print(\"\\nE Grade with percentage of % \",per);\n",
    "elif per >= 32 and per < 33 :\n",
    "    print(\"\\nFail\");\n",
    "else :\n",
    "    print(\"\\nYou have typed inappropriate\");\n"
   ]
  },
  {
   "cell_type": "code",
   "execution_count": 2,
   "metadata": {},
   "outputs": [
    {
     "name": "stdout",
     "output_type": "stream",
     "text": [
      "Write any number you want to check even or odd: 3\n",
      "The number is odd: 3\n"
     ]
    }
   ],
   "source": [
    "# Write a program which take input from user and identify that the given\n",
    "# number is even or odd?\n",
    "\n",
    "\n",
    "num = int(input(\"Write any number you want to check even or odd: \"))\n",
    "if num %2 == 0:\n",
    "    print(\"The number is even:\",num)\n",
    "else:\n",
    "    print(\"The number is odd:\",num)\n",
    "    "
   ]
  },
  {
   "cell_type": "code",
   "execution_count": 3,
   "metadata": {},
   "outputs": [
    {
     "name": "stdout",
     "output_type": "stream",
     "text": [
      "length of the list is:  6\n"
     ]
    }
   ],
   "source": [
    "#. Write a program which print the length of the list?\n",
    "\n",
    "\n",
    "list = ['a', 'b', 'c', '2', '8', 'False']\n",
    "\n",
    "length = len(list)\n",
    "print('length of the list is: ',length)"
   ]
  },
  {
   "cell_type": "code",
   "execution_count": 26,
   "metadata": {},
   "outputs": [
    {
     "name": "stdout",
     "output_type": "stream",
     "text": [
      "Sum of all the numeric items in a list:  10\n"
     ]
    }
   ],
   "source": [
    "#Write a Python program to sum all the numeric items in a list?\n",
    "    \n",
    "def SumNumber(items):\n",
    "    a = 0\n",
    "    for x in items:\n",
    "        a += x\n",
    "    return a\n",
    "print(\"Sum of all the numeric items in a list: \",SumNumber([9,8,-7]))\n"
   ]
  },
  {
   "cell_type": "code",
   "execution_count": 29,
   "metadata": {},
   "outputs": [
    {
     "name": "stdout",
     "output_type": "stream",
     "text": [
      "2\n"
     ]
    }
   ],
   "source": [
    "# Write a Python program to get the largest number from a numeric list.\n",
    "\n",
    "def max_num_in_list( list ):\n",
    "    max = list[ 0 ]\n",
    "    for a in list:\n",
    "        if a > max:\n",
    "            max = a\n",
    "            return max\n",
    "        \n",
    "        \n",
    "print(max_num_in_list([1, 2, -8, 0])) "
   ]
  },
  {
   "cell_type": "code",
   "execution_count": 32,
   "metadata": {},
   "outputs": [
    {
     "name": "stdout",
     "output_type": "stream",
     "text": [
      "1\n",
      "1\n",
      "2\n",
      "3\n"
     ]
    }
   ],
   "source": [
    "# Take a list, say for example this one:\n",
    "# a = [1, 1, 2, 3, 5, 8, 13, 21, 34, 55, 89]\n",
    "# and write a program that prints out all the elements of the list that are\n",
    "# less than 5.\n",
    "\n",
    "\n",
    "a = [1, 1, 2, 3, 5, 8, 13, 21, 34, 55, 89]\n",
    "for i in a:\n",
    "    if i < 5:\n",
    "        print(i)\n",
    "\n"
   ]
  },
  {
   "cell_type": "code",
   "execution_count": null,
   "metadata": {},
   "outputs": [],
   "source": []
  },
  {
   "cell_type": "code",
   "execution_count": null,
   "metadata": {},
   "outputs": [],
   "source": []
  },
  {
   "cell_type": "code",
   "execution_count": null,
   "metadata": {},
   "outputs": [],
   "source": []
  }
 ],
 "metadata": {
  "kernelspec": {
   "display_name": "Python 3",
   "language": "python",
   "name": "python3"
  },
  "language_info": {
   "codemirror_mode": {
    "name": "ipython",
    "version": 3
   },
   "file_extension": ".py",
   "mimetype": "text/x-python",
   "name": "python",
   "nbconvert_exporter": "python",
   "pygments_lexer": "ipython3",
   "version": "3.7.3"
  }
 },
 "nbformat": 4,
 "nbformat_minor": 2
}
